{
  "cells": [
    {
      "cell_type": "code",
      "execution_count": null,
      "metadata": {
        "colab": {
          "base_uri": "https://localhost:8080/"
        },
        "id": "Hfvasw6jKzW3",
        "outputId": "8fe67727-98eb-4325-e2a5-76485bf2f40b"
      },
      "outputs": [],
      "source": [
        "!wget 'https://raw.githubusercontent.com/karencfisher/dcgan/main/dcgan.py'"
      ]
    },
    {
      "cell_type": "code",
      "execution_count": null,
      "metadata": {
        "colab": {
          "base_uri": "https://localhost:8080/"
        },
        "id": "gGVOMZLUT70Q",
        "outputId": "5352b56c-859b-4ff0-c44a-7334ca21af6d"
      },
      "outputs": [],
      "source": [
        "# Needs matplotlib version 3.3.4\n",
        "!pip install matplotlib==3.3.4"
      ]
    },
    {
      "cell_type": "code",
      "execution_count": null,
      "metadata": {
        "colab": {
          "base_uri": "https://localhost:8080/"
        },
        "id": "kBGQ5IpWUXh4",
        "outputId": "35fea763-14f7-4a24-eb72-d29b54014902"
      },
      "outputs": [],
      "source": [
        "from google.colab import drive\n",
        "drive.mount('/content/drive')"
      ]
    },
    {
      "cell_type": "code",
      "execution_count": null,
      "metadata": {
        "id": "hNKYJBv9KzW4"
      },
      "outputs": [],
      "source": [
        "import numpy as np\n",
        "import matplotlib.pyplot as plt\n",
        "import time\n",
        "\n",
        "from tensorflow.keras.datasets import cifar10\n",
        "import tensorflow as tf\n",
        "\n",
        "from dcgan import DCGAN, Preprocessor"
      ]
    },
    {
      "cell_type": "markdown",
      "metadata": {
        "id": "sk-0BCTlKzW5"
      },
      "source": [
        "Load the fashion-mnist data set and preprocess images (scale and flatten)"
      ]
    },
    {
      "cell_type": "code",
      "execution_count": null,
      "metadata": {},
      "outputs": [],
      "source": [
        "(X_train, y_train), (X_test, y_test) = cifar10.load_data()"
      ]
    },
    {
      "cell_type": "code",
      "execution_count": null,
      "metadata": {
        "id": "0DMDNZCVkV9x"
      },
      "outputs": [],
      "source": [
        "model_path = None\n",
        "#model_path = '/content/drive/MyDrive/cifar10_models'\n",
        "dcgan = DCGAN(X_train.shape[1:], model_path=model_path)"
      ]
    },
    {
      "cell_type": "code",
      "execution_count": null,
      "metadata": {
        "id": "eGLruWBpKzW6"
      },
      "outputs": [],
      "source": [
        "# scaling\n",
        "\n",
        "dcgan.preprocessor.fit(X_train)\n",
        "X_train = dcgan.preprocessor.transform(X_train)\n"
      ]
    },
    {
      "cell_type": "markdown",
      "metadata": {
        "id": "eBEV-AvjKzW6"
      },
      "source": [
        "Look at a sample of the original images"
      ]
    },
    {
      "cell_type": "code",
      "execution_count": null,
      "metadata": {
        "colab": {
          "base_uri": "https://localhost:8080/",
          "height": 171
        },
        "id": "n_MDI3W3KzW6",
        "outputId": "1b1f4491-8196-4db0-98a3-e4c83588cceb"
      },
      "outputs": [],
      "source": [
        "fig, ax = plt.subplots(2, 5, figsize=(5, 3))\n",
        "fig.patch.set_facecolor('white')\n",
        "for indx, img in enumerate(X_train[:10]):\n",
        "    i, j = indx // 5, indx % 5\n",
        "    img = dcgan.preprocessor.inverse(img)\n",
        "    img = img.astype(int)\n",
        "    ax[i, j].imshow(img, cmap=plt.cm.binary)\n",
        "    ax[i, j].set_xticks([])\n",
        "    ax[i, j].set_yticks([])"
      ]
    },
    {
      "cell_type": "markdown",
      "metadata": {
        "id": "IgrRMo8WKzW7"
      },
      "source": [
        "Instantiate and train our DCGAN"
      ]
    },
    {
      "cell_type": "code",
      "execution_count": null,
      "metadata": {
        "colab": {
          "base_uri": "https://localhost:8080/",
          "height": 1000
        },
        "id": "U4SeP87jKzW7",
        "outputId": "bd8fd201-4766-41f3-d8b3-2bf2fce40b3b"
      },
      "outputs": [],
      "source": [
        "epochs = 25\n",
        "d_losses, g_losses = dcgan.train(X_train, epochs, 100, verbose=5)\n",
        "\n",
        "plt.plot(range(1, epochs+1), d_losses, label='disc. loss')\n",
        "plt.plot(range(1, epochs+1), g_losses, label='gen. loss')\n",
        "plt.xlabel('Epoch')\n",
        "plt.ylabel('Loss')\n",
        "plt.legend()\n",
        "plt.show()\n",
        "\n",
        "print('Saving models\\n')\n",
        "dcgan.save_model('/content/drive/MyDrive/cifar10_models')\n",
        "!zip -r /content/drive/MyDrive/cifar_10_models.zip /content/drive/MyDrive/cifar10_models"
      ]
    },
    {
      "cell_type": "code",
      "execution_count": null,
      "metadata": {
        "id": "YsI8zebzXkOf"
      },
      "outputs": [],
      "source": []
    }
  ],
  "metadata": {
    "accelerator": "GPU",
    "colab": {
      "provenance": []
    },
    "gpuClass": "standard",
    "kernelspec": {
      "display_name": "Python 3.8.8 ('base')",
      "language": "python",
      "name": "python3"
    },
    "language_info": {
      "codemirror_mode": {
        "name": "ipython",
        "version": 3
      },
      "file_extension": ".py",
      "mimetype": "text/x-python",
      "name": "python",
      "nbconvert_exporter": "python",
      "pygments_lexer": "ipython3",
      "version": "3.8.8"
    },
    "orig_nbformat": 4,
    "vscode": {
      "interpreter": {
        "hash": "e94a37844a0b2c58d590d23a1d3c94eb0291991d9599c29c548c65f82166f260"
      }
    }
  },
  "nbformat": 4,
  "nbformat_minor": 0
}
