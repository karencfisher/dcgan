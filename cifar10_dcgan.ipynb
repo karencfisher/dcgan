{
  "cells": [
    {
      "cell_type": "code",
      "execution_count": null,
      "metadata": {
        "colab": {
          "base_uri": "https://localhost:8080/"
        },
        "id": "Hfvasw6jKzW3",
        "outputId": "a386421e-1522-4bf1-d4c3-6687a10cc6bc"
      },
      "outputs": [],
      "source": [
        "!wget 'https://raw.githubusercontent.com/karencfisher/dcgan/main/dcgan.py'"
      ]
    },
    {
      "cell_type": "code",
      "execution_count": null,
      "metadata": {
        "colab": {
          "base_uri": "https://localhost:8080/",
          "height": 459
        },
        "id": "gGVOMZLUT70Q",
        "outputId": "23247baf-6575-4efa-b5a1-bb1a972dc9e2"
      },
      "outputs": [],
      "source": [
        "# Needs matplotlib version 3.3.4\n",
        "!pip install matplotlib==3.3.4"
      ]
    },
    {
      "cell_type": "code",
      "execution_count": null,
      "metadata": {
        "colab": {
          "base_uri": "https://localhost:8080/"
        },
        "id": "kBGQ5IpWUXh4",
        "outputId": "84cf99e4-3e59-4f04-b16e-ed831f9efa59"
      },
      "outputs": [],
      "source": [
        "from google.colab import drive\n",
        "drive.mount('/content/drive')"
      ]
    },
    {
      "cell_type": "code",
      "execution_count": null,
      "metadata": {
        "colab": {
          "base_uri": "https://localhost:8080/"
        },
        "id": "Rm5AqNPJtwse",
        "outputId": "be19e1c9-c20b-488d-c4b3-1245693e0f7f"
      },
      "outputs": [],
      "source": [
        "!unzip '/content/drive/MyDrive/cifar10_models.zip'"
      ]
    },
    {
      "cell_type": "code",
      "execution_count": null,
      "metadata": {
        "id": "hNKYJBv9KzW4"
      },
      "outputs": [],
      "source": [
        "import numpy as np\n",
        "import matplotlib.pyplot as plt\n",
        "import time\n",
        "\n",
        "from tensorflow.keras.datasets import cifar10\n",
        "import tensorflow as tf\n",
        "\n",
        "from dcgan2 import DCGAN, Preprocessor"
      ]
    },
    {
      "cell_type": "markdown",
      "metadata": {
        "id": "sk-0BCTlKzW5"
      },
      "source": [
        "Load the fashion-mnist data set and preprocess images (scale and flatten)"
      ]
    },
    {
      "cell_type": "code",
      "execution_count": null,
      "metadata": {
        "colab": {
          "base_uri": "https://localhost:8080/"
        },
        "id": "eGLruWBpKzW6",
        "outputId": "beabaae5-483a-4413-bec1-d96f3b971085"
      },
      "outputs": [],
      "source": [
        "# load cifar10\n",
        "(X_train, y_train), (X_test, y_test) = cifar10.load_data()\n",
        "\n",
        "preprocess = Preprocessor()\n",
        "preprocess.fit(X_train)\n",
        "X_train = preprocess.transform(X_train)\n"
      ]
    },
    {
      "cell_type": "markdown",
      "metadata": {
        "id": "eBEV-AvjKzW6"
      },
      "source": [
        "Look at a sample of the original images"
      ]
    },
    {
      "cell_type": "code",
      "execution_count": null,
      "metadata": {
        "colab": {
          "base_uri": "https://localhost:8080/",
          "height": 171
        },
        "id": "n_MDI3W3KzW6",
        "outputId": "9b1923aa-87fd-4bd3-a9c6-8a845c7a4d8f"
      },
      "outputs": [],
      "source": [
        "fig, ax = plt.subplots(2, 5, figsize=(5, 3))\n",
        "fig.patch.set_facecolor('white')\n",
        "for indx, img in enumerate(X_train[:10]):\n",
        "    i, j = indx // 5, indx % 5\n",
        "    img = preprocess.inverse(img)\n",
        "    img = img.astype(int)\n",
        "    ax[i, j].imshow(img, cmap=plt.cm.binary)\n",
        "    ax[i, j].set_xticks([])\n",
        "    ax[i, j].set_yticks([])"
      ]
    },
    {
      "cell_type": "markdown",
      "metadata": {
        "id": "IgrRMo8WKzW7"
      },
      "source": [
        "Instantiate and train our DCGAN"
      ]
    },
    {
      "cell_type": "code",
      "execution_count": null,
      "metadata": {
        "colab": {
          "base_uri": "https://localhost:8080/",
          "height": 1000
        },
        "id": "U4SeP87jKzW7",
        "outputId": "7c681583-c2ba-4a82-e49d-944b13c2a48c"
      },
      "outputs": [],
      "source": [
        "model_path = None\n",
        "dcgan = DCGAN(model_path=model_path, channels=3)\n",
        "\n",
        "d_losses, g_losses = dcgan.train(X_train, 25, 100, verbose=1)"
      ]
    },
    {
      "cell_type": "markdown",
      "metadata": {
        "id": "v2V5T0IjKzW9"
      },
      "source": [
        "Plot the losses during training. The generator and discriminator losses should converge."
      ]
    },
    {
      "cell_type": "code",
      "execution_count": null,
      "metadata": {
        "colab": {
          "base_uri": "https://localhost:8080/",
          "height": 279
        },
        "id": "Q7eMpgY0KzW9",
        "outputId": "b86f63c7-822d-4fd1-9553-cdda1a90503d"
      },
      "outputs": [],
      "source": [
        "plt.plot(range(1, 26), d_losses, label='disc. loss')\n",
        "plt.plot(range(1, 26), g_losses, label='gen. loss')\n",
        "plt.xlabel('Epoch')\n",
        "plt.ylabel('Loss')\n",
        "plt.legend()\n",
        "plt.show()"
      ]
    },
    {
      "cell_type": "code",
      "execution_count": null,
      "metadata": {
        "colab": {
          "base_uri": "https://localhost:8080/",
          "height": 338
        },
        "id": "dzUt61NcKzW9",
        "outputId": "547fc671-12c7-4b97-b279-40121d5dbb37"
      },
      "outputs": [],
      "source": [
        "from google.colab import files\n",
        "\n",
        "dcgan.save_model('./content/drive/mydrive/cifar10_models')\n"
      ]
    }
  ],
  "metadata": {
    "accelerator": "GPU",
    "colab": {
      "provenance": []
    },
    "gpuClass": "standard",
    "kernelspec": {
      "display_name": "Python 3.8.8 ('base')",
      "language": "python",
      "name": "python3"
    },
    "language_info": {
      "codemirror_mode": {
        "name": "ipython",
        "version": 3
      },
      "file_extension": ".py",
      "mimetype": "text/x-python",
      "name": "python",
      "nbconvert_exporter": "python",
      "pygments_lexer": "ipython3",
      "version": "3.8.8"
    },
    "orig_nbformat": 4,
    "vscode": {
      "interpreter": {
        "hash": "e94a37844a0b2c58d590d23a1d3c94eb0291991d9599c29c548c65f82166f260"
      }
    }
  },
  "nbformat": 4,
  "nbformat_minor": 0
}
