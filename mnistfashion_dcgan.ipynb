{
 "cells": [
  {
   "cell_type": "code",
   "execution_count": 1,
   "metadata": {},
   "outputs": [],
   "source": [
    "import numpy as np\n",
    "import matplotlib.pyplot as plt\n",
    "import time\n",
    "\n",
    "from tensorflow.keras.datasets import fashion_mnist\n",
    "import tensorflow as tf\n",
    "\n",
    "from dcgan import DCGAN"
   ]
  },
  {
   "cell_type": "markdown",
   "metadata": {},
   "source": [
    "Load the fashion-mnist data set and preprocess images (scale and flatten)"
   ]
  },
  {
   "cell_type": "code",
   "execution_count": 2,
   "metadata": {},
   "outputs": [],
   "source": [
    "# load MNIST\n",
    "(X_train, y_train), (X_test, y_test) = fashion_mnist.load_data()\n",
    "X_train = (X_train.astype(np.float32) - 127.5)/127.5\n",
    "X_train = np.expand_dims(X_train, -1)"
   ]
  },
  {
   "cell_type": "markdown",
   "metadata": {},
   "source": [
    "Look at a sample of the original images"
   ]
  },
  {
   "cell_type": "code",
   "execution_count": 3,
   "metadata": {},
   "outputs": [
    {
     "data": {
      "image/png": "[encoded data removed]",
      "text/plain": [
       "<Figure size 360x216 with 10 Axes>"
      ]
     },
     "metadata": {},
     "output_type": "display_data"
    }
   ],
   "source": [
    "fig, ax = plt.subplots(2, 5, figsize=(5, 3))\n",
    "fig.patch.set_facecolor('white')\n",
    "for indx, img in enumerate(X_train[:10]):\n",
    "    img = img.reshape(28, 28)\n",
    "    i, j = indx // 5, indx % 5\n",
    "    ax[i, j].imshow(img, cmap='gray')\n",
    "    ax[i, j].set_xticks([])\n",
    "    ax[i, j].set_yticks([])"
   ]
  },
  {
   "cell_type": "markdown",
   "metadata": {},
   "source": [
    "Instantiate and train our DCGAN"
   ]
  },
  {
   "cell_type": "code",
   "execution_count": 4,
   "metadata": {},
   "outputs": [
    {
     "name": "stderr",
     "output_type": "stream",
     "text": [
      "Epoch 1:   3%|2         | 14/468 [04:07<2:10:15, 17.21s/it]"
     ]
    }
   ],
   "source": [
    "model_path = None\n",
    "dcgan = DCGAN(model_path=model_path)\n",
    "\n",
    "d_losses, g_losses = dcgan.train(X_train, 10, 128, verbose=1)"
   ]
  },
  {
   "cell_type": "code",
   "execution_count": null,
   "metadata": {},
   "outputs": [],
   "source": [
    "dcgan.save_model('models')"
   ]
  },
  {
   "cell_type": "markdown",
   "metadata": {},
   "source": [
    "Plot the losses during training. The generator and discriminator losses should converge."
   ]
  },
  {
   "cell_type": "code",
   "execution_count": null,
   "metadata": {},
   "outputs": [],
   "source": [
    "plt.plot(range(1, 101), d_losses, label='disc. loss')\n",
    "plt.plot(range(1, 101), g_losses, label='gen. loss')\n",
    "plt.xlabel('Epoch')\n",
    "plt.ylabel('Loss')\n",
    "plt.legend()\n",
    "plt.show()"
   ]
  },
  {
   "cell_type": "markdown",
   "metadata": {},
   "source": [
    "An interesting experiment is to generate a number of synthetic examples, and then see if a classifier trained on the original distrubution can label them. It seems to be able to recognize a fair number of them."
   ]
  },
  {
   "cell_type": "markdown",
   "metadata": {},
   "source": [
    "First, load a trained classifier"
   ]
  },
  {
   "cell_type": "code",
   "execution_count": null,
   "metadata": {},
   "outputs": [],
   "source": [
    "from tensorflow.keras.models import load_model\n",
    "from tensorflow.keras.layers import Softmax\n",
    "\n",
    "clf = load_model('fashion_mnist_classifier.h5')"
   ]
  },
  {
   "cell_type": "markdown",
   "metadata": {},
   "source": [
    "Generate some new examples and see how the classifier labels them."
   ]
  },
  {
   "cell_type": "code",
   "execution_count": null,
   "metadata": {},
   "outputs": [],
   "source": [
    "class_names = ['T-shirt/top', 'Trouser', 'Pullover', 'Dress', 'Coat',\n",
    "               'Sandal', 'Shirt', 'Sneaker', 'Bag', 'Ankle boot']\n",
    "\n",
    "# generate new images. since they are returned as 1-D vectors, we \n",
    "# will need to reshape them for the classifier (which is a CNN)\n",
    "images = dcgan.generate(10, None, display=False)\n",
    "images = tf.image.resize(images, (28, 28))\n",
    "\n",
    "# Predict the labels by the classifier\n",
    "y_hat = clf.predict(images)\n",
    "soft_max = Softmax()\n",
    "probs = soft_max(y_hat)\n",
    "labels = np.argmax(probs, axis=1)\n",
    "\n",
    "# Display the results\n",
    "fig, ax = plt.subplots(2, 5, figsize=(6, 4))\n",
    "fig.patch.set_facecolor('white')\n",
    "fig.tight_layout()\n",
    "for indx in range(10):\n",
    "    label = class_names[labels[indx]]\n",
    "    prob = np.max(probs[indx])\n",
    "    img = images[indx].reshape((28, 28))\n",
    "    \n",
    "    i, j = indx // 5, indx % 5\n",
    "    ax[i, j].imshow(img, cmap='gray')\n",
    "    ax[i, j].set_xticks([])\n",
    "    ax[i, j].set_yticks([])\n",
    "    ax[i, j].set_xlabel(f'{prob * 100: .2f}%')\n",
    "    ax[i,j].set_title(label)\n",
    "\n"
   ]
  }
 ],
 "metadata": {
  "kernelspec": {
   "display_name": "Python 3.8.8 ('base')",
   "language": "python",
   "name": "python3"
  },
  "language_info": {
   "codemirror_mode": {
    "name": "ipython",
    "version": 3
   },
   "file_extension": ".py",
   "mimetype": "text/x-python",
   "name": "python",
   "nbconvert_exporter": "python",
   "pygments_lexer": "ipython3",
   "version": "3.8.8"
  },
  "orig_nbformat": 4,
  "vscode": {
   "interpreter": {
    "hash": "e94a37844a0b2c58d590d23a1d3c94eb0291991d9599c29c548c65f82166f260"
   }
  }
 },
 "nbformat": 4,
 "nbformat_minor": 2
}
