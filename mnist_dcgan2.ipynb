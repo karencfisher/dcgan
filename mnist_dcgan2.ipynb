{
  "cells": [
    {
      "cell_type": "markdown",
      "metadata": {
        "colab_type": "text",
        "id": "view-in-github"
      },
      "source": [
        "<a href=\"https://colab.research.google.com/github/karencfisher/dcgan/blob/main/mnist_dcgan.ipynb\" target=\"_parent\"><img src=\"https://colab.research.google.com/assets/colab-badge.svg\" alt=\"Open In Colab\"/></a>"
      ]
    },
    {
      "cell_type": "markdown",
      "metadata": {
        "id": "RlqX1lVG4xSn"
      },
      "source": [
        "A very basic test case, learning to generate MNIST digits"
      ]
    },
    {
      "cell_type": "code",
      "execution_count": null,
      "metadata": {
        "colab": {
          "base_uri": "https://localhost:8080/"
        },
        "id": "rWvhmgz33s7O",
        "outputId": "b05f6ef0-669c-4a14-db38-4fe095bf85d5"
      },
      "outputs": [],
      "source": [
        "# upload DCGAN module\n",
        "!wget 'https://raw.githubusercontent.com/karencfisher/dcgan/main/dcgan2.py'"
      ]
    },
    {
      "cell_type": "code",
      "execution_count": null,
      "metadata": {
        "colab": {
          "base_uri": "https://localhost:8080/",
          "height": 459
        },
        "id": "fAF4zOEmYZjr",
        "outputId": "e56274fb-7368-454b-e2c0-31be76c66a87"
      },
      "outputs": [],
      "source": [
        "# Needs matplotlib version 3.3.4\n",
        "!pip install matplotlib==3.3.4"
      ]
    },
    {
      "cell_type": "code",
      "execution_count": 1,
      "metadata": {
        "id": "MebsXea6C3JD"
      },
      "outputs": [],
      "source": [
        "import numpy as np\n",
        "import matplotlib.pyplot as plt\n",
        "import time\n",
        "\n",
        "from tensorflow.keras.datasets import mnist\n",
        "import tensorflow as tf\n",
        "\n",
        "from dcgan2 import DCGAN, Preprocessor"
      ]
    },
    {
      "cell_type": "markdown",
      "metadata": {
        "id": "ohzdOwXkC3JH"
      },
      "source": [
        "Load the fashion-mnist data set and preprocess images (scale and flatten)"
      ]
    },
    {
      "cell_type": "code",
      "execution_count": 2,
      "metadata": {
        "id": "BtMEXLEAC3JI"
      },
      "outputs": [],
      "source": [
        "# load MNIST\n",
        "(X_train, y_train), (X_test, y_test) = mnist.load_data()\n",
        "X_train = np.expand_dims(X_train, -1)\n",
        "\n",
        "preprocess = Preprocessor()\n",
        "preprocess.fit(X_train)\n",
        "X_train = preprocess.transform(X_train)"
      ]
    },
    {
      "cell_type": "markdown",
      "metadata": {
        "id": "XJm0Kto4C3JJ"
      },
      "source": [
        "Look at a sample of the original images"
      ]
    },
    {
      "cell_type": "code",
      "execution_count": 3,
      "metadata": {
        "colab": {
          "base_uri": "https://localhost:8080/",
          "height": 171
        },
        "id": "7zMWr5r0C3JK",
        "outputId": "c4a2d3d1-2e2e-4dc6-ad14-32bf30557382"
      },
      "outputs": [
        {
          "data": {
            "image/png": "[encoded data removed]",
            "text/plain": [
              "<Figure size 360x216 with 10 Axes>"
            ]
          },
          "metadata": {},
          "output_type": "display_data"
        }
      ],
      "source": [
        "fig, ax = plt.subplots(2, 5, figsize=(5, 3))\n",
        "fig.patch.set_facecolor('white')\n",
        "for indx, img in enumerate(X_train[:10]):\n",
        "    i, j = indx // 5, indx % 5\n",
        "    img = preprocess.inverse(img)\n",
        "    ax[i, j].imshow(img, cmap=plt.cm.binary)\n",
        "    ax[i, j].set_xticks([])\n",
        "    ax[i, j].set_yticks([])"
      ]
    },
    {
      "cell_type": "markdown",
      "metadata": {
        "id": "tVTY5nPDC3JL"
      },
      "source": [
        "Instantiate and train our DCGAN"
      ]
    },
    {
      "cell_type": "code",
      "execution_count": 10,
      "metadata": {
        "colab": {
          "base_uri": "https://localhost:8080/",
          "height": 1000
        },
        "id": "auteVvjLC3JL",
        "outputId": "19ef98a7-e507-4bef-e84a-d943884e2fe7"
      },
      "outputs": [],
      "source": [
        "model_path = None\n",
        "dcgan = DCGAN(model_path=model_path, channels=1)\n",
        "\n",
        "d_losses, g_losses = dcgan.train(X_train, 20, 128, verbose=1)"
      ]
    },
    {
      "cell_type": "code",
      "execution_count": null,
      "metadata": {
        "id": "NIBrWGtDC3JM"
      },
      "outputs": [],
      "source": [
        "dcgan.save_model('mnist_models')"
      ]
    },
    {
      "cell_type": "markdown",
      "metadata": {
        "id": "tybcyfpkC3JN"
      },
      "source": [
        "Plot the losses during training. The generator and discriminator losses should converge."
      ]
    },
    {
      "cell_type": "code",
      "execution_count": null,
      "metadata": {
        "colab": {
          "base_uri": "https://localhost:8080/",
          "height": 279
        },
        "id": "4jUZeRlWC3JO",
        "outputId": "93fd256a-2e15-4a1a-b768-cdf4d3ba0daa"
      },
      "outputs": [],
      "source": [
        "plt.plot(range(1, 21), d_losses, label='disc. loss')\n",
        "plt.plot(range(1, 21), g_losses, label='gen. loss')\n",
        "plt.xlabel('Epoch')\n",
        "plt.ylabel('Loss')\n",
        "plt.legend()\n",
        "plt.show()"
      ]
    }
  ],
  "metadata": {
    "accelerator": "GPU",
    "colab": {
      "include_colab_link": true,
      "provenance": []
    },
    "gpuClass": "standard",
    "kernelspec": {
      "display_name": "Python 3.8.8 ('base')",
      "language": "python",
      "name": "python3"
    },
    "language_info": {
      "codemirror_mode": {
        "name": "ipython",
        "version": 3
      },
      "file_extension": ".py",
      "mimetype": "text/x-python",
      "name": "python",
      "nbconvert_exporter": "python",
      "pygments_lexer": "ipython3",
      "version": "3.8.8"
    },
    "orig_nbformat": 4,
    "vscode": {
      "interpreter": {
        "hash": "e94a37844a0b2c58d590d23a1d3c94eb0291991d9599c29c548c65f82166f260"
      }
    }
  },
  "nbformat": 4,
  "nbformat_minor": 0
}
